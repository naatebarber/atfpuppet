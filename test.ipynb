{
 "cells": [
  {
   "cell_type": "markdown",
   "metadata": {},
   "source": [
    "## ETL (Extract Transform Load) of ATF data files using puppet"
   ]
  },
  {
   "cell_type": "markdown",
   "metadata": {},
   "source": [
    "**Import all required packages and set a data path**\n",
    "\n",
    " - Ensure the data path points to your folder containing a bunch of ATF files. The current code assumes this folder - *labeled atf* - is in the same directory as this Jupyter notebook."
   ]
  },
  {
   "cell_type": "code",
   "execution_count": 8,
   "metadata": {},
   "outputs": [
    {
     "data": {
      "text/plain": [
       "True"
      ]
     },
     "execution_count": 8,
     "metadata": {},
     "output_type": "execute_result"
    }
   ],
   "source": [
    "from puppet import ETL, Dataset\n",
    "import pandas as pd\n",
    "import os\n",
    "\n",
    "data_path = \"./atfs\"\n",
    "os.path.exists(data_path)"
   ]
  },
  {
   "cell_type": "markdown",
   "metadata": {},
   "source": [
    "**Use puppet ETL to transform the data into the right format for further processing**\n",
    "\n",
    "In this step we:\n",
    " - create a new `ETL` and load in all datasets in the `data_path` (./atf) folder, looking only at files with a `.atf` extension.\n",
    " - use `etl.squeeze_all` to remove all columns but *event start time*, *event end time* and *peak amp* from all datasets.\n",
    " - use `etl.column_transform` to turn *peak amp* into a positive decimal value on all datasets\n",
    " - use `etl.column_transform` to convert *event start time* from milliseconds to seconds on all datasets\n",
    " - use `etl.column_transform` to convert *event end time* from milliseconds to seconds on all datasets\n",
    " - use `etl.column_rename_all` to shorten start and end time column names on all datasets\n",
    "\n",
    "Finally, after our transformations, we print out the resulting dataframe"
   ]
  },
  {
   "cell_type": "code",
   "execution_count": 9,
   "metadata": {},
   "outputs": [
    {
     "name": "stdout",
     "output_type": "stream",
     "text": [
      "4 datasets loaded from ./atfs/*.atf\n"
     ]
    },
    {
     "data": {
      "text/html": [
       "<div>\n",
       "<style scoped>\n",
       "    .dataframe tbody tr th:only-of-type {\n",
       "        vertical-align: middle;\n",
       "    }\n",
       "\n",
       "    .dataframe tbody tr th {\n",
       "        vertical-align: top;\n",
       "    }\n",
       "\n",
       "    .dataframe thead th {\n",
       "        text-align: right;\n",
       "    }\n",
       "</style>\n",
       "<table border=\"1\" class=\"dataframe\">\n",
       "  <thead>\n",
       "    <tr style=\"text-align: right;\">\n",
       "      <th></th>\n",
       "      <th>Peak Amp (pA)</th>\n",
       "      <th>Start</th>\n",
       "      <th>End</th>\n",
       "    </tr>\n",
       "  </thead>\n",
       "  <tbody>\n",
       "    <tr>\n",
       "      <th>0</th>\n",
       "      <td>22.30940</td>\n",
       "      <td>0.486940</td>\n",
       "      <td>0.521540</td>\n",
       "    </tr>\n",
       "    <tr>\n",
       "      <th>1</th>\n",
       "      <td>29.08370</td>\n",
       "      <td>1.180860</td>\n",
       "      <td>1.215460</td>\n",
       "    </tr>\n",
       "    <tr>\n",
       "      <th>2</th>\n",
       "      <td>28.22788</td>\n",
       "      <td>1.619640</td>\n",
       "      <td>1.654240</td>\n",
       "    </tr>\n",
       "    <tr>\n",
       "      <th>3</th>\n",
       "      <td>22.25071</td>\n",
       "      <td>1.961580</td>\n",
       "      <td>1.996180</td>\n",
       "    </tr>\n",
       "    <tr>\n",
       "      <th>4</th>\n",
       "      <td>22.00752</td>\n",
       "      <td>1.963280</td>\n",
       "      <td>1.997880</td>\n",
       "    </tr>\n",
       "    <tr>\n",
       "      <th>...</th>\n",
       "      <td>...</td>\n",
       "      <td>...</td>\n",
       "      <td>...</td>\n",
       "    </tr>\n",
       "    <tr>\n",
       "      <th>150</th>\n",
       "      <td>49.50130</td>\n",
       "      <td>117.126320</td>\n",
       "      <td>117.160922</td>\n",
       "    </tr>\n",
       "    <tr>\n",
       "      <th>151</th>\n",
       "      <td>46.12135</td>\n",
       "      <td>117.960820</td>\n",
       "      <td>117.995422</td>\n",
       "    </tr>\n",
       "    <tr>\n",
       "      <th>152</th>\n",
       "      <td>21.84872</td>\n",
       "      <td>118.038938</td>\n",
       "      <td>118.073539</td>\n",
       "    </tr>\n",
       "    <tr>\n",
       "      <th>153</th>\n",
       "      <td>42.88097</td>\n",
       "      <td>118.618344</td>\n",
       "      <td>118.652938</td>\n",
       "    </tr>\n",
       "    <tr>\n",
       "      <th>154</th>\n",
       "      <td>28.42807</td>\n",
       "      <td>119.255477</td>\n",
       "      <td>119.290078</td>\n",
       "    </tr>\n",
       "  </tbody>\n",
       "</table>\n",
       "<p>155 rows × 3 columns</p>\n",
       "</div>"
      ],
      "text/plain": [
       "     Peak Amp (pA)       Start         End\n",
       "0         22.30940    0.486940    0.521540\n",
       "1         29.08370    1.180860    1.215460\n",
       "2         28.22788    1.619640    1.654240\n",
       "3         22.25071    1.961580    1.996180\n",
       "4         22.00752    1.963280    1.997880\n",
       "..             ...         ...         ...\n",
       "150       49.50130  117.126320  117.160922\n",
       "151       46.12135  117.960820  117.995422\n",
       "152       21.84872  118.038938  118.073539\n",
       "153       42.88097  118.618344  118.652938\n",
       "154       28.42807  119.255477  119.290078\n",
       "\n",
       "[155 rows x 3 columns]"
      ]
     },
     "execution_count": 9,
     "metadata": {},
     "output_type": "execute_result"
    }
   ],
   "source": [
    "etl = ETL().load_dir(data_path, \".atf\")\n",
    "etl.squeeze_all(\"Event Start Time (ms)\", \"Event End Time (ms)\", \"Peak Amp (pA)\")\n",
    "etl.column_transform_all(\"Peak Amp (pA)\", lambda x: abs(float(x)))\n",
    "etl.column_transform_all(\"Event Start Time (ms)\", lambda x: float(x) / 1000)\n",
    "etl.column_transform_all(\"Event End Time (ms)\", lambda x: float(x) / 1000)\n",
    "\n",
    "etl.column_rename_all(\"Event Start Time (ms)\", \"Start\")\n",
    "etl.column_rename_all(\"Event End Time (ms)\", \"End\")\n",
    "\n",
    "etl.datasets[0].df"
   ]
  },
  {
   "cell_type": "markdown",
   "metadata": {},
   "source": [
    "**Create IEI, Cell, and Control columns**\n",
    "\n",
    "Below, we define three transformation functions. Each of these take in two values:\n",
    " - `row`: a row number of a dataset\n",
    " - `ds`: the dataset itself\n",
    "\n",
    "these functions will be mapped over every row in every dataset iteratively. below we use the row id argument (`row`) and the dataset argument (`ds`) to create new columns from existing ones."
   ]
  },
  {
   "cell_type": "code",
   "execution_count": 10,
   "metadata": {},
   "outputs": [
    {
     "data": {
      "text/html": [
       "<div>\n",
       "<style scoped>\n",
       "    .dataframe tbody tr th:only-of-type {\n",
       "        vertical-align: middle;\n",
       "    }\n",
       "\n",
       "    .dataframe tbody tr th {\n",
       "        vertical-align: top;\n",
       "    }\n",
       "\n",
       "    .dataframe thead th {\n",
       "        text-align: right;\n",
       "    }\n",
       "</style>\n",
       "<table border=\"1\" class=\"dataframe\">\n",
       "  <thead>\n",
       "    <tr style=\"text-align: right;\">\n",
       "      <th></th>\n",
       "      <th>Peak Amp (pA)</th>\n",
       "      <th>Start</th>\n",
       "      <th>End</th>\n",
       "      <th>IEI</th>\n",
       "      <th>Cell</th>\n",
       "      <th>Control</th>\n",
       "    </tr>\n",
       "  </thead>\n",
       "  <tbody>\n",
       "    <tr>\n",
       "      <th>0</th>\n",
       "      <td>22.30940</td>\n",
       "      <td>0.486940</td>\n",
       "      <td>0.521540</td>\n",
       "      <td>0.000000</td>\n",
       "      <td>10</td>\n",
       "      <td>True</td>\n",
       "    </tr>\n",
       "    <tr>\n",
       "      <th>1</th>\n",
       "      <td>29.08370</td>\n",
       "      <td>1.180860</td>\n",
       "      <td>1.215460</td>\n",
       "      <td>0.659320</td>\n",
       "      <td>10</td>\n",
       "      <td>True</td>\n",
       "    </tr>\n",
       "    <tr>\n",
       "      <th>2</th>\n",
       "      <td>28.22788</td>\n",
       "      <td>1.619640</td>\n",
       "      <td>1.654240</td>\n",
       "      <td>0.404180</td>\n",
       "      <td>10</td>\n",
       "      <td>True</td>\n",
       "    </tr>\n",
       "    <tr>\n",
       "      <th>3</th>\n",
       "      <td>22.25071</td>\n",
       "      <td>1.961580</td>\n",
       "      <td>1.996180</td>\n",
       "      <td>0.307340</td>\n",
       "      <td>10</td>\n",
       "      <td>True</td>\n",
       "    </tr>\n",
       "    <tr>\n",
       "      <th>4</th>\n",
       "      <td>22.00752</td>\n",
       "      <td>1.963280</td>\n",
       "      <td>1.997880</td>\n",
       "      <td>-0.032900</td>\n",
       "      <td>10</td>\n",
       "      <td>True</td>\n",
       "    </tr>\n",
       "    <tr>\n",
       "      <th>...</th>\n",
       "      <td>...</td>\n",
       "      <td>...</td>\n",
       "      <td>...</td>\n",
       "      <td>...</td>\n",
       "      <td>...</td>\n",
       "      <td>...</td>\n",
       "    </tr>\n",
       "    <tr>\n",
       "      <th>150</th>\n",
       "      <td>49.50130</td>\n",
       "      <td>117.126320</td>\n",
       "      <td>117.160922</td>\n",
       "      <td>0.125203</td>\n",
       "      <td>10</td>\n",
       "      <td>True</td>\n",
       "    </tr>\n",
       "    <tr>\n",
       "      <th>151</th>\n",
       "      <td>46.12135</td>\n",
       "      <td>117.960820</td>\n",
       "      <td>117.995422</td>\n",
       "      <td>0.799898</td>\n",
       "      <td>10</td>\n",
       "      <td>True</td>\n",
       "    </tr>\n",
       "    <tr>\n",
       "      <th>152</th>\n",
       "      <td>21.84872</td>\n",
       "      <td>118.038938</td>\n",
       "      <td>118.073539</td>\n",
       "      <td>0.043516</td>\n",
       "      <td>10</td>\n",
       "      <td>True</td>\n",
       "    </tr>\n",
       "    <tr>\n",
       "      <th>153</th>\n",
       "      <td>42.88097</td>\n",
       "      <td>118.618344</td>\n",
       "      <td>118.652938</td>\n",
       "      <td>0.544805</td>\n",
       "      <td>10</td>\n",
       "      <td>True</td>\n",
       "    </tr>\n",
       "    <tr>\n",
       "      <th>154</th>\n",
       "      <td>28.42807</td>\n",
       "      <td>119.255477</td>\n",
       "      <td>119.290078</td>\n",
       "      <td>0.602539</td>\n",
       "      <td>10</td>\n",
       "      <td>True</td>\n",
       "    </tr>\n",
       "  </tbody>\n",
       "</table>\n",
       "<p>155 rows × 6 columns</p>\n",
       "</div>"
      ],
      "text/plain": [
       "     Peak Amp (pA)       Start         End       IEI Cell  Control\n",
       "0         22.30940    0.486940    0.521540  0.000000   10     True\n",
       "1         29.08370    1.180860    1.215460  0.659320   10     True\n",
       "2         28.22788    1.619640    1.654240  0.404180   10     True\n",
       "3         22.25071    1.961580    1.996180  0.307340   10     True\n",
       "4         22.00752    1.963280    1.997880 -0.032900   10     True\n",
       "..             ...         ...         ...       ...  ...      ...\n",
       "150       49.50130  117.126320  117.160922  0.125203   10     True\n",
       "151       46.12135  117.960820  117.995422  0.799898   10     True\n",
       "152       21.84872  118.038938  118.073539  0.043516   10     True\n",
       "153       42.88097  118.618344  118.652938  0.544805   10     True\n",
       "154       28.42807  119.255477  119.290078  0.602539   10     True\n",
       "\n",
       "[155 rows x 6 columns]"
      ]
     },
     "execution_count": 10,
     "metadata": {},
     "output_type": "execute_result"
    }
   ],
   "source": [
    "# for every row but the first in a dataset,\n",
    "# the new column on row n should be (row[n].start_time - row[n-1].end_time)\n",
    "def with_iei(row: int, ds: Dataset):\n",
    "    if row == 0:\n",
    "        return 0\n",
    "    \n",
    "    end_time = ds.get(\"End\", row - 1)\n",
    "    start_time = ds.get(\"Start\", row)\n",
    "    return start_time - end_time\n",
    "\n",
    "# for every row in a dataset\n",
    "# if the dataset file name contains the word 'control'\n",
    "# the new column on row n should be True, if the filename does not contain\n",
    "# 'control', the new column on row n should be False\n",
    "def with_control(row: int, ds: Dataset):\n",
    "    if \"control\" in ds.filename:\n",
    "        return True\n",
    "    return False\n",
    "\n",
    "# for every row in a dataset\n",
    "# the new column on row n should be the number after 'cell_' in the filename\n",
    "def with_cell_number(row: int, ds: Dataset):\n",
    "    cell_num = ds.filename.split(\"_\")[1]\n",
    "    return cell_num\n",
    "    \n",
    "# we pass our extension functions to etl here, applying them to the datasets etl holds.\n",
    "etl.extend_all(\"IEI\", with_iei)\n",
    "etl.extend_all(\"Cell\", with_cell_number)\n",
    "etl.extend_all(\"Control\", with_control)\n",
    "etl.datasets[0].df"
   ]
  },
  {
   "cell_type": "markdown",
   "metadata": {},
   "source": [
    "**Crush down our howevermany datasets into two large datasets: control and test**\n",
    "\n",
    "We use `etl.crush` to define two reducer functions that apply to datasets. If a reducer called on a dataset returns `True`, the dataset will be crushed into that group.\n",
    "\n",
    "The below example shows a crush into just two resulting datasets, but by passing more reducers to the `etl.crush` function you could crush into any number of parent datasets."
   ]
  },
  {
   "cell_type": "code",
   "execution_count": 11,
   "metadata": {},
   "outputs": [
    {
     "name": "stdout",
     "output_type": "stream",
     "text": [
      "crushed into 2 datasets\n",
      "Crushed 'control' group:\n",
      "     Peak Amp (pA)       Start         End       IEI Cell  Control\n",
      "0         22.30940    0.486940    0.521540  0.000000   10     True\n",
      "1         29.08370    1.180860    1.215460  0.659320   10     True\n",
      "2         28.22788    1.619640    1.654240  0.404180   10     True\n",
      "3         22.25071    1.961580    1.996180  0.307340   10     True\n",
      "4         22.00752    1.963280    1.997880 -0.032900   10     True\n",
      "..             ...         ...         ...       ...  ...      ...\n",
      "305       49.50130  117.126320  117.160922  0.125203   12     True\n",
      "306       46.12135  117.960820  117.995422  0.799898   12     True\n",
      "307       21.84872  118.038938  118.073539  0.043516   12     True\n",
      "308       42.88097  118.618344  118.652938  0.544805   12     True\n",
      "309       28.42807  119.255477  119.290078  0.602539   12     True\n",
      "\n",
      "[310 rows x 6 columns]\n",
      "Crushed 'test' group:\n",
      "     Peak Amp (pA)       Start         End       IEI Cell  Control\n",
      "0         22.30940    0.486940    0.521540  0.000000   11    False\n",
      "1         29.08370    1.180860    1.215460  0.659320   11    False\n",
      "2         28.22788    1.619640    1.654240  0.404180   11    False\n",
      "3         22.25071    1.961580    1.996180  0.307340   11    False\n",
      "4         22.00752    1.963280    1.997880 -0.032900   11    False\n",
      "..             ...         ...         ...       ...  ...      ...\n",
      "305       49.50130  117.126320  117.160922  0.125203   13    False\n",
      "306       46.12135  117.960820  117.995422  0.799898   13    False\n",
      "307       21.84872  118.038938  118.073539  0.043516   13    False\n",
      "308       42.88097  118.618344  118.652938  0.544805   13    False\n",
      "309       28.42807  119.255477  119.290078  0.602539   13    False\n",
      "\n",
      "[310 rows x 6 columns]\n"
     ]
    }
   ],
   "source": [
    "etl.crush({\n",
    "    \"control\": lambda ds: \"control\" in ds.filename,\n",
    "    \"test\": lambda ds: \"control\" not in ds.filename\n",
    "})\n",
    "\n",
    "print(f\"crushed into {len(etl.datasets)} datasets\")\n",
    "\n",
    "print(\"Crushed 'control' group:\")\n",
    "print(etl.datasets[0].df)\n",
    "\n",
    "print(\"Crushed 'test' group:\")\n",
    "print(etl.datasets[1].df)"
   ]
  },
  {
   "cell_type": "markdown",
   "metadata": {},
   "source": [
    "**Lets use dataframes to get some stats!**\n",
    "\n",
    "The `etl.datasets[0].df` object you've been seeing in the code is a pandas dataframe. `puppet.py` generates one for every dataset. Dataframes are like an excel spreadsheet - or interactive CSV - in python. essentially just rows and columns of organized data. Dataframes are better than Excel and CSVs though, primarily because I like them more but also because they're extremely easy to perform statistical operations on.\n",
    "\n",
    "Below we'll find some statistical values."
   ]
  },
  {
   "cell_type": "code",
   "execution_count": 12,
   "metadata": {},
   "outputs": [
    {
     "name": "stdout",
     "output_type": "stream",
     "text": [
      "Mean peak amps:  31.258213290322576\n",
      "Standard Deviation peak amps:  12.833594206693078\n",
      "Median peak amps:  28.4457\n",
      "Mean IEI:  0.7318718774193551\n"
     ]
    }
   ],
   "source": [
    "control_group_dataframe = etl.datasets[0].df\n",
    "\n",
    "mean_peak_amps = control_group_dataframe[\"Peak Amp (pA)\"].mean()\n",
    "stddev_peak_amps = control_group_dataframe[\"Peak Amp (pA)\"].std()\n",
    "median_peak_amps = control_group_dataframe[\"Peak Amp (pA)\"].median()\n",
    "mean_iei = control_group_dataframe[\"IEI\"].mean()\n",
    "\n",
    "print(\"Mean peak amps: \", mean_peak_amps)\n",
    "print(\"Standard Deviation peak amps: \", stddev_peak_amps)\n",
    "print(\"Median peak amps: \", median_peak_amps)\n",
    "print(\"Mean IEI: \", mean_iei)"
   ]
  },
  {
   "cell_type": "markdown",
   "metadata": {},
   "source": [
    "**We are gonna get graphical baby!**\n",
    "\n",
    "Let's graph some stuff using matplotlib, great way to show visualizations in python.\n",
    "\n",
    "Also before Tuesday July 2 I had no idea how to use matplotlib, so this is a testament to how easy it is to copy paste shit from the internet"
   ]
  },
  {
   "cell_type": "code",
   "execution_count": 47,
   "metadata": {},
   "outputs": [
    {
     "name": "stdout",
     "output_type": "stream",
     "text": [
      "4.376278999999997\n"
     ]
    },
    {
     "data": {
      "image/png": "[encoded data removed]",
      "text/plain": [
       "<Figure size 300x300 with 1 Axes>"
      ]
     },
     "metadata": {},
     "output_type": "display_data"
    }
   ],
   "source": [
    "import matplotlib.pyplot as plt\n",
    "import numpy as np\n",
    "\n",
    "control_iei = etl.datasets[0].df[\"IEI\"]\n",
    "test_iei = etl.datasets[1].df[\"IEI\"]\n",
    "max_iei = max(control_iei.max(), test_iei.max())\n",
    "min_iei = min(control_iei.min(), test_iei.min())\n",
    "\n",
    "plt.style.use('_mpl-gallery')\n",
    "fig, ax = plt.subplots(figsize=(3, 3))\n",
    "\n",
    "VP = ax.boxplot(\n",
    "    (control_iei, test_iei), \n",
    "    positions=[3, 6], \n",
    "    widths=1.5,\n",
    "    showmeans=False, \n",
    "    showfliers=False,\n",
    "    patch_artist=True,\n",
    "    medianprops={\"color\": \"white\", \"linewidth\": 0.5},\n",
    "    boxprops={\"facecolor\": \"C0\", \"edgecolor\": \"white\", \"linewidth\": 0.5},\n",
    "    whiskerprops={\"color\": \"C0\", \"linewidth\": 1.5},\n",
    "    capprops={\"color\": \"C0\", \"linewidth\": 1.5})\n",
    "\n",
    "ax.set(xlim=(0, 9), ylim=(min_iei - 1, max_iei + 1), xticks=np.arange(1,9), yticks=np.arange(min_iei, max_iei))\n",
    "\n",
    "plt.gca().set_xticklabels([ \"iei control\" if x == 3 else \"iei test\" if x == 6 else \"\" for x in np.arange(1, 9)])\n",
    "plt.show()"
   ]
  },
  {
   "cell_type": "markdown",
   "metadata": {},
   "source": [
    "**Now lets draw a line graph, not sure what we want tho will figure it out later nerd**"
   ]
  },
  {
   "cell_type": "code",
   "execution_count": 56,
   "metadata": {},
   "outputs": [
    {
     "data": {
      "image/png": "[encoded data removed]",
      "text/plain": [
       "<Figure size 300x300 with 1 Axes>"
      ]
     },
     "metadata": {},
     "output_type": "display_data"
    }
   ],
   "source": [
    "\n",
    "fig, ax = plt.subplots(figsize=(3, 3))\n",
    "\n",
    "max_x = max(len(control_iei), len(test_iei))\n",
    "\n",
    "ax.plot(np.arange(0, len(control_iei)), control_iei.add(1), color=\"red\")\n",
    "ax.plot(np.arange(0, len(test_iei)), test_iei, linewidth=1.0)\n",
    "\n",
    "ax.set(xlim=(0, max_x), xticks=[],\n",
    "       ylim=(0, 8), yticks=np.arange(1, 8))\n",
    "\n",
    "plt.show()"
   ]
  },
  {
   "cell_type": "code",
   "execution_count": null,
   "metadata": {},
   "outputs": [],
   "source": []
  }
 ],
 "metadata": {
  "kernelspec": {
   "display_name": "Python 3",
   "language": "python",
   "name": "python3"
  },
  "language_info": {
   "codemirror_mode": {
    "name": "ipython",
    "version": 3
   },
   "file_extension": ".py",
   "mimetype": "text/x-python",
   "name": "python",
   "nbconvert_exporter": "python",
   "pygments_lexer": "ipython3",
   "version": "3.10.14"
  }
 },
 "nbformat": 4,
 "nbformat_minor": 2
}
